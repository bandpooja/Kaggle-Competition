{
  "nbformat": 4,
  "nbformat_minor": 0,
  "metadata": {
    "colab": {
      "name": "NLP_v1.ipynb",
      "provenance": [],
      "collapsed_sections": [],
      "include_colab_link": true
    },
    "kernelspec": {
      "name": "python3",
      "display_name": "Python 3"
    },
    "language_info": {
      "name": "python"
    }
  },
  "cells": [
    {
      "cell_type": "markdown",
      "metadata": {
        "id": "view-in-github",
        "colab_type": "text"
      },
      "source": [
        "<a href=\"https://colab.research.google.com/github/bandpooja/Kaggle-Competitions/blob/master/NLP_v1.ipynb\" target=\"_parent\"><img src=\"https://colab.research.google.com/assets/colab-badge.svg\" alt=\"Open In Colab\"/></a>"
      ]
    },
    {
      "cell_type": "markdown",
      "metadata": {
        "id": "hEfaJrT3BWa9"
      },
      "source": [
        "# NLP with disaster tweets\n",
        "\n",
        "### unzipping the data"
      ]
    },
    {
      "cell_type": "code",
      "metadata": {
        "colab": {
          "base_uri": "https://localhost:8080/"
        },
        "id": "4GROsdEgCzGj",
        "outputId": "0acd6386-b4b9-442f-82d6-ea0f757a5226"
      },
      "source": [
        "!unzip /content/nlp-getting-started.zip"
      ],
      "execution_count": 1,
      "outputs": [
        {
          "output_type": "stream",
          "name": "stdout",
          "text": [
            "Archive:  /content/nlp-getting-started.zip\n",
            "  inflating: sample_submission.csv   \n",
            "  inflating: test.csv                \n",
            "  inflating: train.csv               \n"
          ]
        }
      ]
    },
    {
      "cell_type": "markdown",
      "metadata": {
        "id": "YGhUwNh1H4Bm"
      },
      "source": [
        "### importing libraries"
      ]
    },
    {
      "cell_type": "code",
      "metadata": {
        "id": "PcvnZL46DJ4T"
      },
      "source": [
        "import pandas as pd\n",
        "import numpy as np\n",
        "import matplotlib.pyplot as plt"
      ],
      "execution_count": 2,
      "outputs": []
    },
    {
      "cell_type": "markdown",
      "metadata": {
        "id": "SUXT7XRdH-HI"
      },
      "source": [
        "### Read train data file"
      ]
    },
    {
      "cell_type": "code",
      "metadata": {
        "colab": {
          "base_uri": "https://localhost:8080/",
          "height": 206
        },
        "id": "YEExsf4eDag9",
        "outputId": "e179bf31-230e-4c18-c7e8-87fa0fafb9f3"
      },
      "source": [
        "df = pd.read_csv('train.csv')\n",
        "df.head()"
      ],
      "execution_count": 3,
      "outputs": [
        {
          "output_type": "execute_result",
          "data": {
            "text/html": [
              "<div>\n",
              "<style scoped>\n",
              "    .dataframe tbody tr th:only-of-type {\n",
              "        vertical-align: middle;\n",
              "    }\n",
              "\n",
              "    .dataframe tbody tr th {\n",
              "        vertical-align: top;\n",
              "    }\n",
              "\n",
              "    .dataframe thead th {\n",
              "        text-align: right;\n",
              "    }\n",
              "</style>\n",
              "<table border=\"1\" class=\"dataframe\">\n",
              "  <thead>\n",
              "    <tr style=\"text-align: right;\">\n",
              "      <th></th>\n",
              "      <th>id</th>\n",
              "      <th>keyword</th>\n",
              "      <th>location</th>\n",
              "      <th>text</th>\n",
              "      <th>target</th>\n",
              "    </tr>\n",
              "  </thead>\n",
              "  <tbody>\n",
              "    <tr>\n",
              "      <th>0</th>\n",
              "      <td>1</td>\n",
              "      <td>NaN</td>\n",
              "      <td>NaN</td>\n",
              "      <td>Our Deeds are the Reason of this #earthquake M...</td>\n",
              "      <td>1</td>\n",
              "    </tr>\n",
              "    <tr>\n",
              "      <th>1</th>\n",
              "      <td>4</td>\n",
              "      <td>NaN</td>\n",
              "      <td>NaN</td>\n",
              "      <td>Forest fire near La Ronge Sask. Canada</td>\n",
              "      <td>1</td>\n",
              "    </tr>\n",
              "    <tr>\n",
              "      <th>2</th>\n",
              "      <td>5</td>\n",
              "      <td>NaN</td>\n",
              "      <td>NaN</td>\n",
              "      <td>All residents asked to 'shelter in place' are ...</td>\n",
              "      <td>1</td>\n",
              "    </tr>\n",
              "    <tr>\n",
              "      <th>3</th>\n",
              "      <td>6</td>\n",
              "      <td>NaN</td>\n",
              "      <td>NaN</td>\n",
              "      <td>13,000 people receive #wildfires evacuation or...</td>\n",
              "      <td>1</td>\n",
              "    </tr>\n",
              "    <tr>\n",
              "      <th>4</th>\n",
              "      <td>7</td>\n",
              "      <td>NaN</td>\n",
              "      <td>NaN</td>\n",
              "      <td>Just got sent this photo from Ruby #Alaska as ...</td>\n",
              "      <td>1</td>\n",
              "    </tr>\n",
              "  </tbody>\n",
              "</table>\n",
              "</div>"
            ],
            "text/plain": [
              "   id keyword  ...                                               text target\n",
              "0   1     NaN  ...  Our Deeds are the Reason of this #earthquake M...      1\n",
              "1   4     NaN  ...             Forest fire near La Ronge Sask. Canada      1\n",
              "2   5     NaN  ...  All residents asked to 'shelter in place' are ...      1\n",
              "3   6     NaN  ...  13,000 people receive #wildfires evacuation or...      1\n",
              "4   7     NaN  ...  Just got sent this photo from Ruby #Alaska as ...      1\n",
              "\n",
              "[5 rows x 5 columns]"
            ]
          },
          "metadata": {},
          "execution_count": 3
        }
      ]
    },
    {
      "cell_type": "markdown",
      "metadata": {
        "id": "TC3gUlgaIENr"
      },
      "source": [
        "## Install tensorflow nlp modules"
      ]
    },
    {
      "cell_type": "code",
      "metadata": {
        "id": "2Hboc0wKHK7J",
        "colab": {
          "base_uri": "https://localhost:8080/"
        },
        "outputId": "adc6c52e-6c67-44ba-8fe4-6ce8778dd293"
      },
      "source": [
        "!pip install -q -U tensorflow-text\n",
        "!pip install -q tf-models-official"
      ],
      "execution_count": 4,
      "outputs": [
        {
          "output_type": "stream",
          "name": "stdout",
          "text": [
            "\u001b[K     |████████████████████████████████| 4.4 MB 5.2 MB/s \n",
            "\u001b[K     |████████████████████████████████| 1.8 MB 5.2 MB/s \n",
            "\u001b[K     |████████████████████████████████| 1.1 MB 40.3 MB/s \n",
            "\u001b[K     |████████████████████████████████| 596 kB 44.0 MB/s \n",
            "\u001b[K     |████████████████████████████████| 90 kB 9.3 MB/s \n",
            "\u001b[K     |████████████████████████████████| 37.1 MB 50 kB/s \n",
            "\u001b[K     |████████████████████████████████| 99 kB 9.5 MB/s \n",
            "\u001b[K     |████████████████████████████████| 352 kB 44.2 MB/s \n",
            "\u001b[K     |████████████████████████████████| 213 kB 47.7 MB/s \n",
            "\u001b[K     |████████████████████████████████| 43 kB 2.0 MB/s \n",
            "\u001b[K     |████████████████████████████████| 1.2 MB 33.1 MB/s \n",
            "\u001b[?25h  Building wheel for py-cpuinfo (setup.py) ... \u001b[?25l\u001b[?25hdone\n",
            "  Building wheel for seqeval (setup.py) ... \u001b[?25l\u001b[?25hdone\n"
          ]
        }
      ]
    },
    {
      "cell_type": "markdown",
      "metadata": {
        "id": "JzkmMj9bIQi_"
      },
      "source": [
        "### Importing tensorflow and nlp libraries"
      ]
    },
    {
      "cell_type": "code",
      "metadata": {
        "id": "kvXQrFyNDcF_"
      },
      "source": [
        "import tensorflow as tf\n",
        "import tensorflow_hub as hub\n",
        "import tensorflow_text as text\n",
        "from official.nlp import optimization"
      ],
      "execution_count": 5,
      "outputs": []
    },
    {
      "cell_type": "markdown",
      "metadata": {
        "id": "QSDhw4KHIanE"
      },
      "source": [
        "### Split data for training and validation"
      ]
    },
    {
      "cell_type": "code",
      "metadata": {
        "id": "SHjdT_x0DcB8"
      },
      "source": [
        "train = df.sample(7300)\n",
        "val = df.sample(313)"
      ],
      "execution_count": 6,
      "outputs": []
    },
    {
      "cell_type": "code",
      "metadata": {
        "id": "X1d291jsDb-Q",
        "colab": {
          "base_uri": "https://localhost:8080/"
        },
        "outputId": "b501a998-e65a-4163-e8a0-58f40cf038c5"
      },
      "source": [
        "train.columns"
      ],
      "execution_count": 7,
      "outputs": [
        {
          "output_type": "execute_result",
          "data": {
            "text/plain": [
              "Index(['id', 'keyword', 'location', 'text', 'target'], dtype='object')"
            ]
          },
          "metadata": {},
          "execution_count": 7
        }
      ]
    },
    {
      "cell_type": "code",
      "metadata": {
        "id": "-wxqQQRmDb6B"
      },
      "source": [
        "DATA_COLUMN = 'text'\n",
        "LABEL_COLUMN = 'target'\n",
        "# label_list is the list of labels, i.e. True, False or 0, 1 or 'dog', 'cat'\n",
        "label_list = [0, 1]"
      ],
      "execution_count": 8,
      "outputs": []
    },
    {
      "cell_type": "markdown",
      "metadata": {
        "id": "R8it_KNmIjqe"
      },
      "source": [
        "### selecting a pre-train bert model"
      ]
    },
    {
      "cell_type": "code",
      "metadata": {
        "colab": {
          "base_uri": "https://localhost:8080/"
        },
        "id": "1B7W02RSSz4p",
        "outputId": "d57e883c-19a5-4203-fcb7-f5e7d7969697"
      },
      "source": [
        "bert_model_name = 'small_bert/bert_en_uncased_L-4_H-512_A-8' \n",
        "\n",
        "map_name_to_handle = {\n",
        "    \n",
        "    'small_bert/bert_en_uncased_L-4_H-512_A-8':\n",
        "        'https://tfhub.dev/tensorflow/small_bert/bert_en_uncased_L-4_H-512_A-8/1'\n",
        "}\n",
        "\n",
        "map_model_to_preprocess = {\n",
        "    \n",
        "    'small_bert/bert_en_uncased_L-4_H-512_A-8':\n",
        "        'https://tfhub.dev/tensorflow/bert_en_uncased_preprocess/3',\n",
        "    }\n",
        "\n",
        "tfhub_handle_encoder = map_name_to_handle[bert_model_name]\n",
        "tfhub_handle_preprocess = map_model_to_preprocess[bert_model_name]\n",
        "\n",
        "print(f'BERT model selected           : {tfhub_handle_encoder}')\n",
        "print(f'Preprocess model auto-selected: {tfhub_handle_preprocess}')\n"
      ],
      "execution_count": 9,
      "outputs": [
        {
          "output_type": "stream",
          "name": "stdout",
          "text": [
            "BERT model selected           : https://tfhub.dev/tensorflow/small_bert/bert_en_uncased_L-4_H-512_A-8/1\n",
            "Preprocess model auto-selected: https://tfhub.dev/tensorflow/bert_en_uncased_preprocess/3\n"
          ]
        }
      ]
    },
    {
      "cell_type": "markdown",
      "metadata": {
        "id": "NFOswGboIvrw"
      },
      "source": [
        "### Transfering the bert preprocess to Keras"
      ]
    },
    {
      "cell_type": "code",
      "metadata": {
        "id": "8lr4KQ64M9IK"
      },
      "source": [
        "bert_preprocess_model = hub.KerasLayer(tfhub_handle_preprocess)"
      ],
      "execution_count": 10,
      "outputs": []
    },
    {
      "cell_type": "code",
      "metadata": {
        "id": "DgdBFzLDQIbE"
      },
      "source": [
        "dummy = [train['text'].values.tolist()[50]]"
      ],
      "execution_count": 11,
      "outputs": []
    },
    {
      "cell_type": "code",
      "metadata": {
        "id": "ZxSGFXkBQIV1"
      },
      "source": [
        "text_preprocessed = bert_preprocess_model(dummy)"
      ],
      "execution_count": 12,
      "outputs": []
    },
    {
      "cell_type": "code",
      "metadata": {
        "colab": {
          "base_uri": "https://localhost:8080/"
        },
        "id": "-xTmGjqbTGZR",
        "outputId": "ccba1b2b-8a47-49a2-c31f-f640f0d27e7a"
      },
      "source": [
        "print(f'Keys       : {list(text_preprocessed.keys())}')\n",
        "print(f'Shape      : {text_preprocessed[\"input_word_ids\"].shape}')\n",
        "print(f'Word Ids   : {text_preprocessed[\"input_word_ids\"][0, :12]}')\n",
        "print(f'Input Mask : {text_preprocessed[\"input_mask\"][0, :12]}')\n",
        "print(f'Type Ids   : {text_preprocessed[\"input_type_ids\"][0, :12]}')"
      ],
      "execution_count": 13,
      "outputs": [
        {
          "output_type": "stream",
          "name": "stdout",
          "text": [
            "Keys       : ['input_mask', 'input_word_ids', 'input_type_ids']\n",
            "Shape      : (1, 128)\n",
            "Word Ids   : [  101  1037  7596  2000  1996  4231  1029  5777  2007 20675  1029  1037]\n",
            "Input Mask : [1 1 1 1 1 1 1 1 1 1 1 1]\n",
            "Type Ids   : [0 0 0 0 0 0 0 0 0 0 0 0]\n"
          ]
        }
      ]
    },
    {
      "cell_type": "markdown",
      "metadata": {
        "id": "spn_N8zmJNJB"
      },
      "source": [
        ""
      ]
    },
    {
      "cell_type": "code",
      "metadata": {
        "id": "LskcK5DiT-kp"
      },
      "source": [
        "def build_classifier_model():\n",
        "  text_input = tf.keras.layers.Input(shape=(), dtype=tf.string, name='text')\n",
        "  preprocessing_layer = hub.KerasLayer(tfhub_handle_preprocess, name='preprocessing')\n",
        "  encoder_inputs = preprocessing_layer(text_input)\n",
        "  encoder = hub.KerasLayer(tfhub_handle_encoder, trainable=True, name='BERT_encoder')\n",
        "  outputs = encoder(encoder_inputs)\n",
        "  net = outputs['pooled_output']\n",
        "  net = tf.keras.layers.Dropout(0.1)(net)\n",
        "  net = tf.keras.layers.Dense(1, activation=None, name='classifier')(net)\n",
        "  return tf.keras.Model(text_input, net)"
      ],
      "execution_count": 14,
      "outputs": []
    },
    {
      "cell_type": "code",
      "metadata": {
        "colab": {
          "base_uri": "https://localhost:8080/"
        },
        "id": "dlUixfxkT-hW",
        "outputId": "8ccedeba-0188-4642-ba9e-b363e10e8117"
      },
      "source": [
        "classifier_model = build_classifier_model()\n",
        "bert_raw_result = classifier_model(tf.constant(['I am bad']))\n",
        "print(tf.sigmoid(bert_raw_result))"
      ],
      "execution_count": 15,
      "outputs": [
        {
          "output_type": "stream",
          "name": "stdout",
          "text": [
            "tf.Tensor([[0.3439777]], shape=(1, 1), dtype=float32)\n"
          ]
        }
      ]
    },
    {
      "cell_type": "code",
      "metadata": {
        "id": "aywePXNVT-YX"
      },
      "source": [
        "loss = tf.keras.losses.BinaryCrossentropy(from_logits=True)\n",
        "metrics = tf.metrics.BinaryAccuracy()\n"
      ],
      "execution_count": 16,
      "outputs": []
    },
    {
      "cell_type": "code",
      "metadata": {
        "id": "l6mh1loZUNxN"
      },
      "source": [
        "epochs = 20\n",
        "steps_per_epoch = int(len(train)/epochs)\n",
        "num_train_steps = steps_per_epoch * epochs\n",
        "num_warmup_steps = int(0.1*num_train_steps)\n",
        "\n",
        "init_lr = 3e-5\n",
        "optimizer = optimization.create_optimizer(init_lr=init_lr,\n",
        "                                          num_train_steps=num_train_steps,\n",
        "                                          num_warmup_steps=num_warmup_steps,\n",
        "                                          optimizer_type='adamw')\n"
      ],
      "execution_count": 17,
      "outputs": []
    },
    {
      "cell_type": "code",
      "metadata": {
        "id": "7VuQpGJtURj2"
      },
      "source": [
        "classifier_model.compile(optimizer=optimizer,\n",
        "                         loss=loss,\n",
        "                         metrics=metrics)\n"
      ],
      "execution_count": 18,
      "outputs": []
    },
    {
      "cell_type": "code",
      "metadata": {
        "colab": {
          "base_uri": "https://localhost:8080/"
        },
        "id": "tPYwtOPZUUKN",
        "outputId": "9b76f820-89ae-42f6-f82b-fa5966202cca"
      },
      "source": [
        "print(f'Training model with {tfhub_handle_encoder}')\n",
        "history = classifier_model.fit(x=train['text'].values.tolist(), y=train['target'].values.tolist(),\n",
        "                              epochs=epochs)\n"
      ],
      "execution_count": 19,
      "outputs": [
        {
          "output_type": "stream",
          "name": "stdout",
          "text": [
            "Training model with https://tfhub.dev/tensorflow/small_bert/bert_en_uncased_L-4_H-512_A-8/1\n",
            "Epoch 1/20\n",
            "229/229 [==============================] - 98s 396ms/step - loss: 0.5785 - binary_accuracy: 0.6808\n",
            "Epoch 2/20\n",
            "229/229 [==============================] - 91s 396ms/step - loss: 0.4297 - binary_accuracy: 0.8092\n",
            "Epoch 3/20\n",
            "229/229 [==============================] - 91s 398ms/step - loss: 0.3750 - binary_accuracy: 0.8400\n",
            "Epoch 4/20\n",
            "229/229 [==============================] - 92s 403ms/step - loss: 0.3207 - binary_accuracy: 0.8649\n",
            "Epoch 5/20\n",
            "229/229 [==============================] - 93s 405ms/step - loss: 0.2514 - binary_accuracy: 0.8993\n",
            "Epoch 6/20\n",
            "229/229 [==============================] - 92s 402ms/step - loss: 0.2074 - binary_accuracy: 0.9201\n",
            "Epoch 7/20\n",
            "229/229 [==============================] - 92s 402ms/step - loss: 0.1591 - binary_accuracy: 0.9397\n",
            "Epoch 8/20\n",
            "229/229 [==============================] - 92s 402ms/step - loss: 0.1306 - binary_accuracy: 0.9512\n",
            "Epoch 9/20\n",
            "229/229 [==============================] - 92s 401ms/step - loss: 0.1043 - binary_accuracy: 0.9615\n",
            "Epoch 10/20\n",
            "229/229 [==============================] - 92s 401ms/step - loss: 0.0869 - binary_accuracy: 0.9678\n",
            "Epoch 11/20\n",
            "229/229 [==============================] - 93s 404ms/step - loss: 0.0724 - binary_accuracy: 0.9737\n",
            "Epoch 12/20\n",
            "229/229 [==============================] - 92s 401ms/step - loss: 0.0692 - binary_accuracy: 0.9773\n",
            "Epoch 13/20\n",
            "229/229 [==============================] - 91s 396ms/step - loss: 0.0582 - binary_accuracy: 0.9792\n",
            "Epoch 14/20\n",
            "229/229 [==============================] - 91s 395ms/step - loss: 0.0505 - binary_accuracy: 0.9836\n",
            "Epoch 15/20\n",
            "229/229 [==============================] - 92s 399ms/step - loss: 0.0545 - binary_accuracy: 0.9830\n",
            "Epoch 16/20\n",
            "229/229 [==============================] - 91s 396ms/step - loss: 0.0349 - binary_accuracy: 0.9879\n",
            "Epoch 17/20\n",
            "229/229 [==============================] - 90s 395ms/step - loss: 0.0375 - binary_accuracy: 0.9888\n",
            "Epoch 18/20\n",
            "229/229 [==============================] - 90s 395ms/step - loss: 0.0335 - binary_accuracy: 0.9889\n",
            "Epoch 19/20\n",
            "229/229 [==============================] - 90s 393ms/step - loss: 0.0295 - binary_accuracy: 0.9900\n",
            "Epoch 20/20\n",
            "229/229 [==============================] - 90s 394ms/step - loss: 0.0235 - binary_accuracy: 0.9919\n"
          ]
        }
      ]
    },
    {
      "cell_type": "code",
      "metadata": {
        "id": "dy63biSAUXes",
        "colab": {
          "base_uri": "https://localhost:8080/"
        },
        "outputId": "e8886884-419a-404d-9e83-ec25bb1ebaa4"
      },
      "source": [
        "loss, accuracy = classifier_model.evaluate(val['text'].values.tolist(), val['target'].values.tolist())\n",
        "\n",
        "print(f'Loss: {loss}')\n",
        "print(f'Accuracy: {accuracy}')\n"
      ],
      "execution_count": 20,
      "outputs": [
        {
          "output_type": "stream",
          "name": "stdout",
          "text": [
            "10/10 [==============================] - 3s 196ms/step - loss: 0.0815 - binary_accuracy: 0.9840\n",
            "Loss: 0.08151674270629883\n",
            "Accuracy: 0.9840255379676819\n"
          ]
        }
      ]
    },
    {
      "cell_type": "code",
      "metadata": {
        "id": "_guBTqXyBqBT",
        "outputId": "024f19dc-20da-46d1-fde9-12dc1b1e3f07",
        "colab": {
          "base_uri": "https://localhost:8080/"
        }
      },
      "source": [
        "test_df = pd.read_csv('test.csv')\n",
        "ids = []\n",
        "targets = []\n",
        "import tqdm\n",
        "for i,row in tqdm.tqdm(test_df.iterrows()):\n",
        "  bert_raw_result = classifier_model(tf.constant([row['text']]))\n",
        "  p = tf.sigmoid(bert_raw_result).numpy()[0]\n",
        "  label = 1 if p > 0.5 else 0\n",
        "  ids.append(row['id'])\n",
        "  targets.append(label)\n",
        "\n",
        "\n",
        "submission = pd.DataFrame()\n",
        "submission['id'] = ids\n",
        "submission['target'] = targets\n",
        "submission.to_csv('submission.csv', index=False)\n"
      ],
      "execution_count": 30,
      "outputs": [
        {
          "output_type": "stream",
          "name": "stderr",
          "text": [
            "3263it [01:00, 53.51it/s]\n"
          ]
        }
      ]
    },
    {
      "cell_type": "code",
      "metadata": {
        "id": "NFaVhU8gBqQ7"
      },
      "source": [
        ""
      ],
      "execution_count": null,
      "outputs": []
    }
  ]
}